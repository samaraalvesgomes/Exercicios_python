{
 "cells": [
  {
   "cell_type": "code",
   "execution_count": 3,
   "metadata": {},
   "outputs": [
    {
     "name": "stdout",
     "output_type": "stream",
     "text": [
      "21.484375\n",
      "Saudavel\n"
     ]
    }
   ],
   "source": [
    "def calculadoraImc(peso, altura):\n",
    "\n",
    "     imc = peso/(altura*altura) * 10000\n",
    "     print(imc)\n",
    "\n",
    "     if (imc <= 18.5): return \"Magreza\"\n",
    "\n",
    "     elif (imc > 18.5) and (imc <= 24.9): return \"Saudavel\"\n",
    "\n",
    "     elif (imc >= 25) and (imc <= 29.9): return \"Sobrepeso\"\n",
    "\n",
    "     elif (imc > 30) and (imc <= 34.9): return \"Obesidade grau 1\"\n",
    "\n",
    "     elif (imc > 35) and (imc <= 39.9): return \"Obesidade severa grau 2\"\n",
    "\n",
    "     else : return \"Obesidade morbida grau 3\"\n",
    "\n",
    "\n",
    "resultado = calculadoraImc(55,160)\n",
    "\n",
    "print(resultado)"
   ]
  }
 ],
 "metadata": {
  "kernelspec": {
   "display_name": "Python 3",
   "language": "python",
   "name": "python3"
  },
  "language_info": {
   "codemirror_mode": {
    "name": "ipython",
    "version": 3
   },
   "file_extension": ".py",
   "mimetype": "text/x-python",
   "name": "python",
   "nbconvert_exporter": "python",
   "pygments_lexer": "ipython3",
   "version": "3.12.0"
  }
 },
 "nbformat": 4,
 "nbformat_minor": 2
}

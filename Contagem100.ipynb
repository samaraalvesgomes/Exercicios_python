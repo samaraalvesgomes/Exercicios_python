{
 "cells": [
  {
   "cell_type": "code",
   "execution_count": 1,
   "metadata": {},
   "outputs": [
    {
     "name": "stdout",
     "output_type": "stream",
     "text": [
      "Escreva um número menor ou igual a 100\n",
      "O valor digitado deve ser um número inteiro!\n",
      "Escreva um número menor ou igual a 100\n",
      "Você digitou um número maior do que 100.\n",
      "Escreva um número menor ou igual a 100\n",
      "O valor digitado deve ser um número inteiro!\n",
      "Escreva um número menor ou igual a 100\n",
      "O valor digitado deve ser um número inteiro!\n",
      "Escreva um número menor ou igual a 100\n",
      "Boa! Você escolheu o número: 40\n"
     ]
    }
   ],
   "source": [
    "def mostrar_numero():\n",
    "    numero_valido = True\n",
    "\n",
    "    while (numero_valido == True):\n",
    "        try:\n",
    "            print(\"Escreva um número menor ou igual a 100\")\n",
    "            num = int(input())\n",
    "            if (num >= 100):\n",
    "                print(\"Você digitou um número maior do que 100.\")\n",
    "            else:\n",
    "                print(\"Boa! Você escolheu o número: \" + str(num))\n",
    "                numero_valido = False\n",
    "        except: \n",
    "            print(\"O valor digitado deve ser um número inteiro!\")\n",
    "\n",
    "mostrar_numero()"
   ]
  }
 ],
 "metadata": {
  "kernelspec": {
   "display_name": "Python 3",
   "language": "python",
   "name": "python3"
  },
  "language_info": {
   "codemirror_mode": {
    "name": "ipython",
    "version": 3
   },
   "file_extension": ".py",
   "mimetype": "text/x-python",
   "name": "python",
   "nbconvert_exporter": "python",
   "pygments_lexer": "ipython3",
   "version": "3.12.0"
  }
 },
 "nbformat": 4,
 "nbformat_minor": 2
}

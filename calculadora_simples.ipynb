{
 "cells": [
  {
   "cell_type": "code",
   "execution_count": 1,
   "metadata": {},
   "outputs": [
    {
     "name": "stdout",
     "output_type": "stream",
     "text": [
      "Digite 0 para encerrar\n",
      "Digite 1 para a operação de Soma\n",
      "Digite 2 para a operação de Subtração\n",
      "Digite 3 para a operação de Multiplicação\n",
      "Digite 4 para a operação de Divisão\n",
      "Digite o número que corresponde a operação desejada: \n",
      "2\n",
      "Digite o primeiro número: \n",
      "10\n",
      "Digite o segundo número: \n",
      "20\n",
      "O resultado de 10 + 20 = -10\n",
      "Digite 0 para encerrar\n",
      "Digite 1 para a operação de Soma\n",
      "Digite 2 para a operação de Subtração\n",
      "Digite 3 para a operação de Multiplicação\n",
      "Digite 4 para a operação de Divisão\n",
      "Digite o número que corresponde a operação desejada: \n",
      "0\n"
     ]
    }
   ],
   "source": [
    "def calculadora (pri_num,seg_num,entrada):\n",
    "\n",
    "    if (entrada == 1):\n",
    "        soma = pri_num + seg_num\n",
    "        return soma\n",
    "    elif (entrada == 2):\n",
    "        subtracao = pri_num - seg_num\n",
    "        return subtracao\n",
    "    elif (entrada == 3):\n",
    "        Multiplicacao = pri_num * seg_num\n",
    "        return Multiplicacao\n",
    "    elif (entrada == 4):\n",
    "        divisao = pri_num / seg_num\n",
    "        return divisao\n",
    "    else:\n",
    "        return 0\n",
    "\n",
    "contador = True\n",
    "\n",
    "while (contador == True):\n",
    "    \n",
    "    print (\"Digite 0 para encerrar\")\n",
    "    print (\"Digite 1 para a operação de Soma\")\n",
    "    print (\"Digite 2 para a operação de Subtração\")\n",
    "    print (\"Digite 3 para a operação de Multiplicação\")\n",
    "    print (\"Digite 4 para a operação de Divisão\")\n",
    "    print (\"Digite o número que corresponde a operação desejada: \")\n",
    "    entrada = int(input())\n",
    "    print (entrada)\n",
    "\n",
    "    if (0 < entrada > 4):\n",
    "        print (\"Essa opção não existe, selecione outra opção!\")\n",
    "    elif (entrada == 0): \n",
    "        contador = False  \n",
    "    else:\n",
    "       print (\"Digite o primeiro número: \")\n",
    "       pri_num = int(input())\n",
    "       print (pri_num)\n",
    "       print (\"Digite o segundo número: \")\n",
    "       seg_num = int(input())\n",
    "       print (seg_num)\n",
    "       resultado = calculadora (pri_num,seg_num,entrada)\n",
    "       print (\"O resultado é\",resultado)\n",
    "\n",
    "    \n",
    "     \n",
    "\n"
   ]
  }
 ],
 "metadata": {
  "kernelspec": {
   "display_name": "Python 3",
   "language": "python",
   "name": "python3"
  },
  "language_info": {
   "codemirror_mode": {
    "name": "ipython",
    "version": 3
   },
   "file_extension": ".py",
   "mimetype": "text/x-python",
   "name": "python",
   "nbconvert_exporter": "python",
   "pygments_lexer": "ipython3",
   "version": "3.12.0"
  }
 },
 "nbformat": 4,
 "nbformat_minor": 2
}

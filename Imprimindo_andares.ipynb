{
 "cells": [
  {
   "cell_type": "code",
   "execution_count": null,
   "metadata": {},
   "outputs": [],
   "source": [
    " #Utilizei o 22 pois assim será impresso 20 números sem o 13, visto que a proposta era um número para cada andar.\n",
    "\n",
    "#Função for executando os andares em ordem crescente.\n",
    "\n",
    "for andar in range(1,22):\n",
    "    if (andar == 13):\n",
    "        continue\n",
    "    print(andar)"
   ]
  },
  {
   "cell_type": "code",
   "execution_count": null,
   "metadata": {},
   "outputs": [],
   "source": [
    "#Função while executando os andares em ordem crescente.\n",
    "\n",
    "andar = 1\n",
    "while (andar < 22):\n",
    "    if (andar == 13):\n",
    "        andar = andar + 1\n",
    "        continue\n",
    "    else:\n",
    "        print(andar)\n",
    "        andar = andar + 1"
   ]
  },
  {
   "cell_type": "code",
   "execution_count": null,
   "metadata": {},
   "outputs": [],
   "source": [
    "#Função for executando os andares em ordem decrescente.\n",
    "\n",
    "for andar in range(21,0,-1):\n",
    "    if (andar == 13):\n",
    "        continue\n",
    "    print(andar)"
   ]
  },
  {
   "cell_type": "code",
   "execution_count": 2,
   "metadata": {},
   "outputs": [
    {
     "name": "stdout",
     "output_type": "stream",
     "text": [
      "21\n",
      "20\n",
      "19\n",
      "18\n",
      "17\n",
      "16\n",
      "15\n",
      "14\n",
      "12\n",
      "11\n",
      "10\n",
      "9\n",
      "8\n",
      "7\n",
      "6\n",
      "5\n",
      "4\n",
      "3\n",
      "2\n",
      "1\n"
     ]
    }
   ],
   "source": [
    "#Função while executando os andares em ordem decrescente.\n",
    "\n",
    "andar = 21\n",
    "while (andar > 0):\n",
    "    if (andar == 13):\n",
    "        andar = andar - 1\n",
    "        continue\n",
    "    else:\n",
    "        print (andar)\n",
    "        andar = andar - 1"
   ]
  }
 ],
 "metadata": {
  "kernelspec": {
   "display_name": "Python 3",
   "language": "python",
   "name": "python3"
  },
  "language_info": {
   "codemirror_mode": {
    "name": "ipython",
    "version": 3
   },
   "file_extension": ".py",
   "mimetype": "text/x-python",
   "name": "python",
   "nbconvert_exporter": "python",
   "pygments_lexer": "ipython3",
   "version": "3.12.0"
  }
 },
 "nbformat": 4,
 "nbformat_minor": 2
}

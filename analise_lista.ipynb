{
 "cells": [
  {
   "cell_type": "code",
   "execution_count": null,
   "metadata": {},
   "outputs": [
    {
     "name": "stdout",
     "output_type": "stream",
     "text": [
      "A lista de músicos tem 15 músicos.\n",
      "O dado salvo no índice 2 é: Elis Regina\n",
      "O dado salvo no índice 9 é: Moacir Santos\n",
      "O dado salvo no índice 14 é: Gal Costa\n"
     ]
    }
   ],
   "source": [
    "'''Este script Python demonstra operações básicas com listas,\n",
    "incluindo a criação de uma lista de músicos, a obtenção do\n",
    "seu tamanho e o acesso a elementos específicos através de seus índices.\n",
    "'''\n",
    "\n",
    "lista_musicos = [ 'Djavan', 'Roberto Carlos', 'Elis Regina', 'Tom Jobim', 'Milton Nascimento', 'Chico Buarque', 'Nara Leão', 'Pitty', 'Simonal', 'Moacir Santos', 'Caetano Veloso', 'Elza Soares', 'Paulinho da Viola', 'Yamandú Costa', 'Gal Costa']\n",
    "\n",
    "print (\"A lista de músicos tem\", len(lista_musicos), \"músicos.\")\n",
    "print (\"O dado salvo no índice 2 é:\", lista_musicos[2])\n",
    "print (\"O dado salvo no índice 9 é:\", lista_musicos[9])\n",
    "print (\"O dado salvo no índice 14 é:\", lista_musicos[14])"
   ]
  }
 ],
 "metadata": {
  "kernelspec": {
   "display_name": "Python 3",
   "language": "python",
   "name": "python3"
  },
  "language_info": {
   "codemirror_mode": {
    "name": "ipython",
    "version": 3
   },
   "file_extension": ".py",
   "mimetype": "text/x-python",
   "name": "python",
   "nbconvert_exporter": "python",
   "pygments_lexer": "ipython3",
   "version": "3.12.0"
  }
 },
 "nbformat": 4,
 "nbformat_minor": 2
}

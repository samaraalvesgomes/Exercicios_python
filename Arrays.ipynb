{
 "cells": [
  {
   "cell_type": "code",
   "execution_count": null,
   "metadata": {},
   "outputs": [],
   "source": [
    "'''Declare dois arrays, cada um com um mínimo de cinco elementos,e imprima eles no terminal usando o comando print(). O primeiro \n",
    "array deve conter os produtos de uma loja da sua escolha (loja de comida, materiais de construção, música, etc). O segundo array deve \n",
    "conter os anos de nascimento de familiares e amigos seus. Lembre-se de usar nomes descritivos para nomear cada variável, e de usar o tipo \n",
    "de dado apropriado para cada lista (strings, booleanos, números inteiros, floats).\n",
    "'''"
   ]
  },
  {
   "cell_type": "code",
   "execution_count": 17,
   "metadata": {},
   "outputs": [
    {
     "name": "stdout",
     "output_type": "stream",
     "text": [
      "------------------------------------------------------------\n",
      "              PRODUTOS DA LOJA DE MÚSICA\n",
      "Produto 1: flauta\n",
      "Produto 2: clarinete\n",
      "Produto 3: violino\n",
      "Produto 4: teclado\n",
      "Produto 5: violão\n",
      "------------------------------------------------------------\n",
      "        ANO DE NASCIMENTO DE FAMILIARES E AMIGOS\n",
      "Ano de nascimento da Camila 2005\n",
      "Ano de nascimento da Yasmin 1997\n",
      "Ano de nascimento da Samara 2004\n",
      "Ano de nascimento do Djair 1973\n",
      "Ano de nascimento do Symon 2003\n",
      "------------------------------------------------------------\n"
     ]
    }
   ],
   "source": [
    "print (\"------------------------------------------------------------\")\n",
    "produtos_loja = [\"flauta\",\"clarinete\", \"violino\", \"teclado\", \"violão\"]\n",
    "\n",
    "print (\"              PRODUTOS DA LOJA DE MÚSICA\")\n",
    "print (\"Produto 1:\" , produtos_loja[0])\n",
    "print (\"Produto 2:\" , produtos_loja[1])\n",
    "print (\"Produto 3:\" , produtos_loja[2])\n",
    "print (\"Produto 4:\" , produtos_loja[3])\n",
    "print (\"Produto 5:\" , produtos_loja[4])\n",
    "\n",
    "print (\"------------------------------------------------------------\")\n",
    "ano_nascimento = [2005, 1997, 2004, 1973, 2003]\n",
    "\n",
    "print (\"         ANO DE NASCIMENTO DE FAMILIARES E AMIGOS\")\n",
    "print (\"Ano de nascimento da Camila\", ano_nascimento[0])\n",
    "print (\"Ano de nascimento da Yasmin\", ano_nascimento[1])\n",
    "print (\"Ano de nascimento da Samara\", ano_nascimento[2])\n",
    "print (\"Ano de nascimento do Djair\", ano_nascimento[3])\n",
    "print (\"Ano de nascimento do Symon\", ano_nascimento[4])\n",
    "\n",
    "print (\"------------------------------------------------------------\")"
   ]
  }
 ],
 "metadata": {
  "kernelspec": {
   "display_name": "Python 3",
   "language": "python",
   "name": "python3"
  },
  "language_info": {
   "codemirror_mode": {
    "name": "ipython",
    "version": 3
   },
   "file_extension": ".py",
   "mimetype": "text/x-python",
   "name": "python",
   "nbconvert_exporter": "python",
   "pygments_lexer": "ipython3",
   "version": "3.12.0"
  }
 },
 "nbformat": 4,
 "nbformat_minor": 2
}

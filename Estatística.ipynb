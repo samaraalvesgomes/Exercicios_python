{
 "cells": [
  {
   "cell_type": "code",
   "execution_count": null,
   "metadata": {},
   "outputs": [],
   "source": [
    "def estatistica(num1,num2):\n",
    "\n",
    "\n",
    "num1 = input(\"digite o primeiro número: \")"
   ]
  }
 ],
 "metadata": {
  "language_info": {
   "name": "python"
  }
 },
 "nbformat": 4,
 "nbformat_minor": 2
}

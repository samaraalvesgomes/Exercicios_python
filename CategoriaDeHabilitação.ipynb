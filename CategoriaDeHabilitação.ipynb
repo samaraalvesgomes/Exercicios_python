{
 "cells": [
  {
   "cell_type": "code",
   "execution_count": 24,
   "metadata": {},
   "outputs": [
    {
     "name": "stdout",
     "output_type": "stream",
     "text": [
      "Categoria C\n"
     ]
    }
   ],
   "source": [
    "QuantidadeRodas = 4\n",
    "PesoBrutoKG = 6000\n",
    "QuatidadePessoas = 8\n",
    "\n",
    "if (QuantidadeRodas <= 3):\n",
    "    print(\"Categoria A\")\n",
    "elif (QuantidadeRodas == 4) and (QuatidadePessoas <= 8) and (PesoBrutoKG < 3500):\n",
    "    print(\"Categoria B\")\n",
    "elif (QuantidadeRodas >= 4) and (3500 <= PesoBrutoKG <= 6000):\n",
    "    print(\"Categoria C\")\n",
    "elif (QuantidadeRodas >= 4) and (QuatidadePessoas > 8):\n",
    "    print(\"Categoria D\")\n",
    "else:\n",
    "    print(\"Categoria E\")"
   ]
  },
  {
   "cell_type": "code",
   "execution_count": 2,
   "metadata": {},
   "outputs": [
    {
     "name": "stdout",
     "output_type": "stream",
     "text": [
      "0\n",
      "1\n",
      "2\n",
      "3\n",
      "4\n",
      "5\n",
      "6\n",
      "7\n",
      "8\n",
      "9\n",
      "10\n"
     ]
    }
   ],
   "source": [
    "for l in range(11):\n",
    "    print (l)"
   ]
  },
  {
   "cell_type": "code",
   "execution_count": 3,
   "metadata": {},
   "outputs": [
    {
     "name": "stdout",
     "output_type": "stream",
     "text": [
      "12\n",
      "16\n",
      "18\n"
     ]
    }
   ],
   "source": [
    "numero = 10\n",
    "for i in range(10):\n",
    "    numero = numero + 2\n",
    "    if (numero == 14):\n",
    "       continue\n",
    "    if (numero == 20):\n",
    "        break\n",
    "    print (numero)"
   ]
  }
 ],
 "metadata": {
  "kernelspec": {
   "display_name": "Python 3",
   "language": "python",
   "name": "python3"
  },
  "language_info": {
   "codemirror_mode": {
    "name": "ipython",
    "version": 3
   },
   "file_extension": ".py",
   "mimetype": "text/x-python",
   "name": "python",
   "nbconvert_exporter": "python",
   "pygments_lexer": "ipython3",
   "version": "3.12.0"
  }
 },
 "nbformat": 4,
 "nbformat_minor": 2
}

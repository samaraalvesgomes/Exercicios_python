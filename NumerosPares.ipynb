{
 "cells": [
  {
   "cell_type": "code",
   "execution_count": null,
   "metadata": {},
   "outputs": [],
   "source": [
    "#Desenvolva um programa que só deve aceitar números pares.\n",
    "\n",
    "#caso um número ímpar seja digitado, informe ao usuário que ele digitou um valor ímpar e peça novamente por um número par;\n",
    "\n",
    "#caso uma letra seja digitada, informe ao usuário que ele digitou um caractere inválido e peça novamente por um número par."
   ]
  },
  {
   "cell_type": "code",
   "execution_count": null,
   "metadata": {},
   "outputs": [],
   "source": [
    "#CÓDIGO COM WHILE\n",
    "TestePar = True\n",
    "\n",
    "while (TestePar == True):\n",
    "    \n",
    "    print (\"Digite um número par: \")\n",
    "\n",
    "    try:\n",
    "        \n",
    "        Validacao = int(input())\n",
    "        \n",
    "        if (Validacao%2 == 0):\n",
    "\n",
    "            print (\"Você digitou um número par!\")\n",
    "\n",
    "            TestePar = False\n",
    "\n",
    "        else:\n",
    "\n",
    "            print (\"Você digitou um número ímpar. Por favor digite outro número! \")\n",
    "\n",
    "    except:  \n",
    "\n",
    "        print (\"caractere inválido! Por favor insira um número!\")  \n"
   ]
  },
  {
   "cell_type": "code",
   "execution_count": 1,
   "metadata": {},
   "outputs": [
    {
     "name": "stdout",
     "output_type": "stream",
     "text": [
      "Digite um numero par: \n",
      "10 é um número par!\n"
     ]
    }
   ],
   "source": [
    "#CÓDIGO COM FOR\n",
    "\n",
    "Testepar = False\n",
    "\n",
    "for Testepar in range(True):\n",
    "\n",
    "    print ('Digite um numero par: ')\n",
    "    \n",
    "    try:\n",
    "       Validacao = int(input())\n",
    "\n",
    "       if (Validacao%2 == 0):\n",
    "\n",
    "            print (Validacao , \"é um número par!\")\n",
    "\n",
    "            Testepar = False\n",
    "\n",
    "       else:\n",
    "\n",
    "            print (\"Você digitou um número ímpar. Por favor digite outro número! \")\n",
    "\n",
    "    except:  \n",
    "\n",
    "        print (\"caractere inválido! Por favor insira um número!\")  \n",
    " "
   ]
  }
 ],
 "metadata": {
  "kernelspec": {
   "display_name": "Python 3",
   "language": "python",
   "name": "python3"
  },
  "language_info": {
   "codemirror_mode": {
    "name": "ipython",
    "version": 3
   },
   "file_extension": ".py",
   "mimetype": "text/x-python",
   "name": "python",
   "nbconvert_exporter": "python",
   "pygments_lexer": "ipython3",
   "version": "3.12.0"
  }
 },
 "nbformat": 4,
 "nbformat_minor": 2
}

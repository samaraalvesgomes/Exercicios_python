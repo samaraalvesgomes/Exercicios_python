{
 "cells": [
  {
   "cell_type": "code",
   "execution_count": null,
   "metadata": {},
   "outputs": [],
   "source": [
    "#A loja de cosméticos ficou muito feliz com seu trabalho e chamaram \n",
    "#você novamente! Dessa vez, eles precisam que você atualize o array \n",
    "#de produtos. Agora, eles estão vendendo rímel ao invés de batons, e \n",
    "#cremes hidratantes no lugar de loções. Além disso, ficaram sem \n",
    "#delineadores, então precisam que você remova ele da lista de produtos.\n",
    "# Imprima a nova lista no terminal para verificar que as alterações \n",
    "#foram realizadas corretamente.\n",
    "\n",
    "#Como desafio, adicione dois novos produtos da sua escolha à lista. "
   ]
  },
  {
   "cell_type": "code",
   "execution_count": 6,
   "metadata": {},
   "outputs": [
    {
     "name": "stdout",
     "output_type": "stream",
     "text": [
      "['máscaras faciais', 'rímel', 'esmaltes', 'perfumes', 'cremes hidratantes', 'xampus', 'sabonetes', 'base', 'cotonete']\n"
     ]
    }
   ],
   "source": [
    "lista_produtos = ['máscaras faciais', 'batons', 'esmaltes', 'perfumes', 'loções', 'xampus', 'sabonetes', 'delineadores'] \n",
    "\n",
    "lista_produtos [1], lista_produtos [4] = \"rímel\" , \"cremes hidratantes\"\n",
    "lista_produtos.pop()\n",
    "lista_produtos.append(\"base\") \n",
    "lista_produtos.append(\"cotonete\")\n",
    "print(lista_produtos)"
   ]
  }
 ],
 "metadata": {
  "kernelspec": {
   "display_name": "Python 3",
   "language": "python",
   "name": "python3"
  },
  "language_info": {
   "codemirror_mode": {
    "name": "ipython",
    "version": 3
   },
   "file_extension": ".py",
   "mimetype": "text/x-python",
   "name": "python",
   "nbconvert_exporter": "python",
   "pygments_lexer": "ipython3",
   "version": "3.12.0"
  }
 },
 "nbformat": 4,
 "nbformat_minor": 2
}

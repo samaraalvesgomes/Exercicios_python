{
 "cells": [
  {
   "cell_type": "code",
   "execution_count": null,
   "metadata": {},
   "outputs": [],
   "source": [
    "# Desenvolva um programa que recebe do usuário nome completo e ano de nascimento que seja entre 1922 e 2021.\n",
    "# A partir dessas informações, o sistema mostrará o nome do usuário e a idade que completou, ou completará, no ano atual (2022).\n",
    "\n",
    "# Caso o usuário não digite um número ou apareça um inválido no campo do ano, o sistema informará o erro e continuará perguntando até que um valor correto seja preenchido."
   ]
  },
  {
   "cell_type": "code",
   "execution_count": null,
   "metadata": {},
   "outputs": [],
   "source": [
    "Teste = True\n",
    "\n",
    "print (\"Digite o seu nome completo: \")\n",
    "Nome = str(input())\n",
    "\n",
    "while (Teste == True):\n",
    "    print(\"Digite o ano em que você nasceu: \") \n",
    "    try:\n",
    "        ano = int(input())\n",
    "        if (1922< ano < 2021):\n",
    "            idade = 2022 - ano\n",
    "            print (\"Você \", Nome, \" completou ou completará \", idade, \" em 2022.\")\n",
    "            Teste = False\n",
    "        else:\n",
    "            print (\"O ano inserido é inváido! Digite um ano entre 1922 e 2021.\")\n",
    "    except:\n",
    "        print (\"Só pode ser inseridos números neste campo.\")\n",
    "\n",
    "\n"
   ]
  }
 ],
 "metadata": {
  "kernelspec": {
   "display_name": "Python 3",
   "language": "python",
   "name": "python3"
  },
  "language_info": {
   "codemirror_mode": {
    "name": "ipython",
    "version": 3
   },
   "file_extension": ".py",
   "mimetype": "text/x-python",
   "name": "python",
   "nbconvert_exporter": "python",
   "pygments_lexer": "ipython3",
   "version": "3.12.0"
  }
 },
 "nbformat": 4,
 "nbformat_minor": 2
}

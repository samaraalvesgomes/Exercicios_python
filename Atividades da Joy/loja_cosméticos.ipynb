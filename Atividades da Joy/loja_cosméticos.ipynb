{
 "cells": [
  {
   "cell_type": "code",
   "execution_count": null,
   "metadata": {},
   "outputs": [],
   "source": [
    "# Uma nova loja de cosméticos abriu no seu bairro e pediram para \n",
    "#você elaborar um sistema que imprime na tela na frente da loja os \n",
    "#novos produtos que chegaram. O sistema da loja já tem um array com \n",
    "#os produtos, você precisa apenas imprimir eles no terminal, um por um.\n",
    "\n",
    "#Como desafio opcional, tente imprimir cada produto com a frase \n",
    "#\"Temos [produto] à venda!\" (ex. \"Temos máscaras faciais à venda!\").  "
   ]
  },
  {
   "cell_type": "code",
   "execution_count": 3,
   "metadata": {},
   "outputs": [
    {
     "name": "stdout",
     "output_type": "stream",
     "text": [
      "--------------------------------------------------\n",
      "    Novos produtos! Confira na lista abaixo:\n",
      "Temos máscaras faciais à venda!\n",
      "Temos batons à venda!\n",
      "Temos esmaltes à venda!\n",
      "Temos perfumes à venda!\n",
      "Temos loções à venda!\n",
      "Temos xampus à venda!\n",
      "Temos sabonetes à venda!\n",
      "Temos delineadores à venda!\n",
      "--------------------------------------------------\n"
     ]
    }
   ],
   "source": [
    "lista_produtos = ['máscaras faciais', 'batons', 'esmaltes', 'perfumes', 'loções', 'xampus', 'sabonetes', 'delineadores'] \n",
    "\n",
    "print (\"--------------------------------------------------\")\n",
    "print (\"    Novos produtos! Confira na lista abaixo:\")\n",
    "for i in range (len(lista_produtos)):\n",
    "    print (\"Temos\", lista_produtos[i], \"à venda!\")\n",
    "print (\"--------------------------------------------------\")"
   ]
  }
 ],
 "metadata": {
  "kernelspec": {
   "display_name": "Python 3",
   "language": "python",
   "name": "python3"
  },
  "language_info": {
   "codemirror_mode": {
    "name": "ipython",
    "version": 3
   },
   "file_extension": ".py",
   "mimetype": "text/x-python",
   "name": "python",
   "nbconvert_exporter": "python",
   "pygments_lexer": "ipython3",
   "version": "3.12.0"
  }
 },
 "nbformat": 4,
 "nbformat_minor": 2
}
